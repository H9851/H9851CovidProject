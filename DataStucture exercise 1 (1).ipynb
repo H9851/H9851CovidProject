{
 "cells": [
  {
   "cell_type": "markdown",
   "metadata": {},
   "source": [
    " <b>Python Data Structures Examples-State Data taken from MyGov website</b>"
   ]
  },
  {
   "cell_type": "markdown",
   "metadata": {},
   "source": [
    " List"
   ]
  },
  {
   "cell_type": "code",
   "execution_count": 26,
   "metadata": {},
   "outputs": [
    {
     "data": {
      "text/plain": [
       "['Delhi', 'Punjab', 'Haryana', 'West Bengal', 'Madhaya Pradesh']"
      ]
     },
     "execution_count": 26,
     "metadata": {},
     "output_type": "execute_result"
    }
   ],
   "source": [
    "list1=[\"Delhi\",\"Punjab\",\"Haryana\",\"West Bengal\",\"Madhaya Pradesh\"]\n",
    "list1"
   ]
  },
  {
   "cell_type": "code",
   "execution_count": 27,
   "metadata": {},
   "outputs": [
    {
     "data": {
      "text/plain": [
       "[97200, 6109, 16548, 21231, 14604]"
      ]
     },
     "execution_count": 27,
     "metadata": {},
     "output_type": "execute_result"
    }
   ],
   "source": [
    "list2=[97200,6109,16548,21231,14604]\n",
    "list2"
   ]
  },
  {
   "cell_type": "markdown",
   "metadata": {},
   "source": [
    "<b> Statewise data</b>"
   ]
  },
  {
   "cell_type": "code",
   "execution_count": 41,
   "metadata": {},
   "outputs": [
    {
     "name": "stdout",
     "output_type": "stream",
     "text": [
      "State wise Infected COVID19 cases\n",
      "Delhi : 97200\n",
      "Punjab : 6109\n",
      "Haryana : 16548\n",
      "West Bengal : 21231\n",
      "Madhaya Pradesh : 14604\n"
     ]
    }
   ],
   "source": [
    "print(\"Active COVID19 cases in every state\")\n",
    "for i in range(len(list1)):\n",
    " print(list1[i]+\" : \"+str(list2[i]))"
   ]
  },
  {
   "cell_type": "markdown",
   "metadata": {},
   "source": [
    "<b> tuples</b>\n"
   ]
  },
  {
   "cell_type": "code",
   "execution_count": 40,
   "metadata": {},
   "outputs": [
    {
     "data": {
      "text/plain": [
       "('Delhi', 'Punjab', 'Haryana', 'West Bengal', 'Madhaya Pradesh')"
      ]
     },
     "execution_count": 40,
     "metadata": {},
     "output_type": "execute_result"
    }
   ],
   "source": [
    "tuple1=(\"Delhi\",\"Punjab\",\"Haryana\",\"West Bengal\",\"Madhaya Pradesh\")\n",
    "tuple1"
   ]
  },
  {
   "cell_type": "code",
   "execution_count": 42,
   "metadata": {},
   "outputs": [
    {
     "data": {
      "text/plain": [
       "[97200, 6109, 16548, 21231, 14604]"
      ]
     },
     "execution_count": 42,
     "metadata": {},
     "output_type": "execute_result"
    }
   ],
   "source": [
    "tuple2=[97200,6109,16548,21231,14604]\n",
    "tuple2"
   ]
  },
  {
   "cell_type": "code",
   "execution_count": 71,
   "metadata": {},
   "outputs": [
    {
     "name": "stdout",
     "output_type": "stream",
     "text": [
      "Active COVID19 cases in every state\n",
      "Delhi: 97200\n",
      "Punjab: 6109\n",
      "Haryana: 16548\n",
      "West Bengal: 21231\n",
      "Madhaya Pradesh: 14604\n"
     ]
    }
   ],
   "source": [
    "print(\"Active COVID19 cases in every state\")\n",
    "for i in range(len(tuple1)):\n",
    " print(tuple1[i]+\": \"+str(tuple2[i]))"
   ]
  },
  {
   "cell_type": "markdown",
   "metadata": {},
   "source": [
    "<b>Dictionary</b>"
   ]
  },
  {
   "cell_type": "code",
   "execution_count": 123,
   "metadata": {},
   "outputs": [
    {
     "data": {
      "text/plain": [
       "['Delhi', 'Punjab', 'Haryana', 'West Bengal', 'Madhaya Pradesh']"
      ]
     },
     "execution_count": 123,
     "metadata": {},
     "output_type": "execute_result"
    }
   ],
   "source": [
    "a=[\"Delhi\",\"Punjab\",\"Haryana\",\"West Bengal\",\"Madhaya Pradesh\"]\n",
    "a"
   ]
  },
  {
   "cell_type": "code",
   "execution_count": 124,
   "metadata": {},
   "outputs": [
    {
     "data": {
      "text/plain": [
       "[97200, 6109, 16548, 21231, 14604]"
      ]
     },
     "execution_count": 124,
     "metadata": {},
     "output_type": "execute_result"
    }
   ],
   "source": [
    "b=[97200,6109,16548,21231,14604]\n",
    "b"
   ]
  },
  {
   "cell_type": "code",
   "execution_count": 125,
   "metadata": {},
   "outputs": [
    {
     "ename": "SyntaxError",
     "evalue": "invalid syntax (<ipython-input-125-45e52a7855f8>, line 1)",
     "output_type": "error",
     "traceback": [
      "\u001b[1;36m  File \u001b[1;32m\"<ipython-input-125-45e52a7855f8>\"\u001b[1;36m, line \u001b[1;32m1\u001b[0m\n\u001b[1;33m    Dictionary={a=('Delhi', 'Punjab', 'Haryana', 'West Bengal','Madhaya Pradesh'):b=('97200,6109,16548,21231,14604')}\u001b[0m\n\u001b[1;37m                 ^\u001b[0m\n\u001b[1;31mSyntaxError\u001b[0m\u001b[1;31m:\u001b[0m invalid syntax\n"
     ]
    }
   ],
   "source": [
    "Dictionary={a=('Delhi', 'Punjab', 'Haryana', 'West Bengal','Madhaya Pradesh'):b=('97200,6109,16548,21231,14604')}"
   ]
  },
  {
   "cell_type": "code",
   "execution_count": 126,
   "metadata": {},
   "outputs": [
    {
     "name": "stdout",
     "output_type": "stream",
     "text": [
      "Active COVID19 cases in every state\n",
      "Maharashtra :  79091\n",
      "Tamil Nadu :  39589\n",
      "Delhi :  27007\n",
      "Gujarat :  7335\n",
      "Uttar Pradesh :  6709\n"
     ]
    }
   ],
   "source": [
    "print(\"Active COVID19 cases in every state\")\n",
    "for a,b in Dictionary.items():\n",
    " print(a,\": \",b)"
   ]
  },
  {
   "cell_type": "code",
   "execution_count": 128,
   "metadata": {},
   "outputs": [
    {
     "name": "stdout",
     "output_type": "stream",
     "text": [
      "Active COVID19 cases in every state\n",
      "Delhi: 97200\n",
      "Punjab: 6109\n",
      "Haryana: 16548\n",
      "West Bengal: 21231\n",
      "Madhaya Pradesh: 14604\n"
     ]
    }
   ],
   "source": [
    "\n",
    "list1=[\"Delhi\",\"Punjab\",\"Haryana\",\"West Bengal\",\"Madhaya Pradesh\"];\n",
    "list2=[97200,6109,16548,21231,14604];\n",
    "print(\"Active COVID19 cases in every state\")\n",
    "for i in range(len(list1)):\n",
    " print(list1[i]+\": \"+str(list2[i]))"
   ]
  }
 ],
 "metadata": {
  "kernelspec": {
   "display_name": "Python 3",
   "language": "python",
   "name": "python3"
  },
  "language_info": {
   "codemirror_mode": {
    "name": "ipython",
    "version": 3
   },
   "file_extension": ".py",
   "mimetype": "text/x-python",
   "name": "python",
   "nbconvert_exporter": "python",
   "pygments_lexer": "ipython3",
   "version": "3.7.6"
  }
 },
 "nbformat": 4,
 "nbformat_minor": 4
}
