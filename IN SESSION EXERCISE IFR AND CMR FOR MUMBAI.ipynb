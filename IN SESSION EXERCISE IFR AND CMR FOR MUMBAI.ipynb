{
 "cells": [
  {
   "cell_type": "markdown",
   "metadata": {},
   "source": [
    "<b><u> Calculation of IFR and CMR for Mumbai in session exercise</u></b>"
   ]
  },
  {
   "cell_type": "code",
   "execution_count": 3,
   "metadata": {},
   "outputs": [],
   "source": [
    "infected=136596\n",
    "recovered=67890\n",
    "deaths=5732\n",
    "population=500000"
   ]
  },
  {
   "cell_type": "markdown",
   "metadata": {},
   "source": [
    " Use Ifr,Cmr function for calculation"
   ]
  },
  {
   "cell_type": "code",
   "execution_count": 7,
   "metadata": {},
   "outputs": [
    {
     "name": "stdout",
     "output_type": "stream",
     "text": [
      "the IFR=41.96316143957363%\n",
      "the CMR=11.464%\n"
     ]
    }
   ],
   "source": [
    "def IFR(deaths,infected):\n",
    "    IFR=(deaths/infected)*1000;\n",
    "    print(\"the IFR={}%\".format(IFR))\n",
    "def CMR(population,deaths):\n",
    "    CMR=(deaths/population)*1000\n",
    "    print(\"the CMR={}%\".format(CMR))\n",
    "\n",
    "IFR(deaths,infected)\n",
    "CMR(population,deaths)"
   ]
  },
  {
   "cell_type": "code",
   "execution_count": 9,
   "metadata": {},
   "outputs": [
    {
     "name": "stdout",
     "output_type": "stream",
     "text": [
      "District = Mumbai\n",
      "infected_total_till_date =136596\n",
      "recovered_cases till date=67890\n",
      "deaths cases till date =5732\n",
      "population=500000\n",
      "the IFR=41.96316143957363%\n",
      "the CMR=11.464%\n"
     ]
    }
   ],
   "source": [
    "print('District = Mumbai')\n",
    "print(\"infected_total_till_date ={}\".format(infected))\n",
    "print(\"recovered_cases till date={}\".format(recovered))\n",
    "print(\"deaths cases till date ={}\".format(deaths)) \n",
    "print(\"population={}\".format(population))\n",
    "IFR(deaths,infected)\n",
    "CMR(population,deaths)"
   ]
  },
  {
   "cell_type": "code",
   "execution_count": null,
   "metadata": {},
   "outputs": [],
   "source": []
  }
 ],
 "metadata": {
  "kernelspec": {
   "display_name": "Python 3",
   "language": "python",
   "name": "python3"
  },
  "language_info": {
   "codemirror_mode": {
    "name": "ipython",
    "version": 3
   },
   "file_extension": ".py",
   "mimetype": "text/x-python",
   "name": "python",
   "nbconvert_exporter": "python",
   "pygments_lexer": "ipython3",
   "version": "3.7.6"
  }
 },
 "nbformat": 4,
 "nbformat_minor": 4
}
