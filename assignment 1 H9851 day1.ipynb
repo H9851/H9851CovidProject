{
 "cells": [
  {
   "cell_type": "code",
   "execution_count": 17,
   "metadata": {},
   "outputs": [],
   "source": [
    "District=\"Gwalior\"\n",
    "infected_total_till_date =1234\n",
    "infected_on_10_june_2020 =12\n",
    "infected_on_11_june_2020 =2\n",
    "infected_on_12_june_2020 =13"
   ]
  },
  {
   "cell_type": "code",
   "execution_count": 45,
   "metadata": {},
   "outputs": [
    {
     "name": "stdout",
     "output_type": "stream",
     "text": [
      "2.188006482982172\n"
     ]
    }
   ],
   "source": [
    "total_percent=((infected_on_10_june_2020 + infected_on_11_june_2020 + infected_on_12_june_2020)/infected_total_till_date)*100\n",
    "print(total_percent)"
   ]
  },
  {
   "cell_type": "code",
   "execution_count": 50,
   "metadata": {},
   "outputs": [
    {
     "name": "stdout",
     "output_type": "stream",
     "text": [
      "7.6923076923076925\n"
     ]
    }
   ],
   "source": [
    "percentage_change=((infected_on_12_june_2020-infected_on_10_june_2020)/infected_on_12_june_2020)*100\n",
    "print(percentage_change)"
   ]
  },
  {
   "cell_type": "code",
   "execution_count": 26,
   "metadata": {},
   "outputs": [
    {
     "name": "stdout",
     "output_type": "stream",
     "text": [
      "0.8103727714748784\n",
      "-0.8103727714748784\n",
      "0.8914100486223663\n"
     ]
    }
   ],
   "source": [
    "percentage_change_on_10_june=((infected_on_10_june_2020-infected_on_11_june_2020)/(infected_total_till_date ))*100\n",
    "print(percentage_change_on_10_june)\n",
    "percentage_change_on_11_june=((infected_on_11_june_2020-infected_on_10_june_2020)/(infected_total_till_date ))*100\n",
    "print(percentage_change_on_11_june)\n",
    "percentage_change_on_12_june=((infected_on_12_june_2020-infected_on_11_june_2020)/(infected_total_till_date ))*100\n",
    "print(percentage_change_on_12_june)"
   ]
  },
  {
   "cell_type": "code",
   "execution_count": 51,
   "metadata": {},
   "outputs": [
    {
     "name": "stdout",
     "output_type": "stream",
     "text": [
      "Gwalior\n",
      "Total Infected 1234\n",
      "infected on tenth day is 12\n",
      "infected on eleventh day is 2\n",
      "infected on twelth day is 13\n",
      "percentage change is  7.6923076923076925\n",
      "percentage change in given 3 days {'Day10': 0.8103727714748784, 'Day11': -0.8103727714748784, 'Day12': 0.8914100486223663}\n"
     ]
    }
   ],
   "source": [
    "a= {\"Day10\":0.8103727714748784,\"Day11\": -0.8103727714748784, \"Day12\": 0.8914100486223663}\n",
    "Total_Infected =\"Total Infected 1234\"\n",
    "print(District)\n",
    "print(Total_Infected )\n",
    "print(\"infected on tenth day is 12\")\n",
    "print(\"infected on eleventh day is 2\")\n",
    "print(\"infected on twelth day is 13\")\n",
    "print(\"percentage change is \", percentage_change)\n",
    "print(\"percentage change in given 3 days\", a)"
   ]
  },
  {
   "cell_type": "code",
   "execution_count": null,
   "metadata": {},
   "outputs": [],
   "source": []
  }
 ],
 "metadata": {
  "kernelspec": {
   "display_name": "Python 3",
   "language": "python",
   "name": "python3"
  },
  "language_info": {
   "codemirror_mode": {
    "name": "ipython",
    "version": 3
   },
   "file_extension": ".py",
   "mimetype": "text/x-python",
   "name": "python",
   "nbconvert_exporter": "python",
   "pygments_lexer": "ipython3",
   "version": "3.7.6"
  }
 },
 "nbformat": 4,
 "nbformat_minor": 4
}
